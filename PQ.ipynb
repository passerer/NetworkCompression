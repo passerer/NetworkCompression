{
 "cells": [
  {
   "cell_type": "code",
   "execution_count": 1,
   "metadata": {},
   "outputs": [],
   "source": [
    "import torch\n",
    "import torch.nn as nn\n",
    "from torchvision import datasets, transforms\n",
    "from torch.autograd import Variable\n",
    "from tqdm import tqdm\n",
    "import numpy as np"
   ]
  },
  {
   "cell_type": "code",
   "execution_count": 2,
   "metadata": {},
   "outputs": [],
   "source": [
    "import sklearn"
   ]
  },
  {
   "cell_type": "code",
   "execution_count": 3,
   "metadata": {},
   "outputs": [],
   "source": [
    "import torch.utils.data as Data\n",
    "    \n",
    "BATCH_SIZE = 100\n",
    "\n",
    "train_dataset = datasets.MNIST(root='./data/',train=True,transform=transforms.Compose([\n",
    "                           transforms.ToTensor(),\n",
    "                           transforms.Normalize((0.1307,), (0.3081,))\n",
    "                       ]))\n",
    "test_dataset = datasets.MNIST(root='./data/',train=False,transform=transforms.Compose([\n",
    "                           transforms.ToTensor(),\n",
    "                           transforms.Normalize((0.1307,), (0.3081,))\n",
    "                       ]))\n",
    "\n",
    "\n",
    "train_loader = Data.DataLoader(dataset=train_dataset,batch_size=BATCH_SIZE,shuffle=True)\n",
    "test_loader = Data.DataLoader(dataset=test_dataset,batch_size=BATCH_SIZE,shuffle=False)"
   ]
  },
  {
   "cell_type": "code",
   "execution_count": 4,
   "metadata": {},
   "outputs": [
    {
     "data": {
      "text/plain": [
       "Net(\n",
       "  (layers): Sequential(\n",
       "    (0): Linear(in_features=784, out_features=512, bias=True)\n",
       "    (1): BatchNorm1d(512, eps=1e-05, momentum=0.1, affine=True, track_running_stats=True)\n",
       "    (2): Hardtanh(min_val=-1.0, max_val=1.0)\n",
       "    (3): Linear(in_features=512, out_features=10, bias=True)\n",
       "    (4): BatchNorm1d(10, eps=1e-05, momentum=0.1, affine=True, track_running_stats=True)\n",
       "    (5): Hardtanh(min_val=-1.0, max_val=1.0)\n",
       "    (6): Softmax(dim=0)\n",
       "  )\n",
       ")"
      ]
     },
     "execution_count": 4,
     "metadata": {},
     "output_type": "execute_result"
    }
   ],
   "source": [
    "class Net(nn.Module):\n",
    "    def __init__(self):\n",
    "        super(Net, self).__init__()\n",
    "        self.infl_ratio=1\n",
    "        self.layers=nn.Sequential(\n",
    "            \n",
    "            nn.Linear(784, 512*self.infl_ratio),\n",
    "            nn.BatchNorm1d(512*self.infl_ratio),\n",
    "            nn.Hardtanh(),\n",
    "            \n",
    "      #      nn.Linear(1024*self.infl_ratio,1024*self.infl_ratio),\n",
    "      #      nn.BatchNorm1d(1024*self.infl_ratio),\n",
    "      #      nn.Hardtanh(),\n",
    "            \n",
    "      #      nn.Linear(1024*self.infl_ratio,1024*self.infl_ratio),\n",
    "       #     nn.BatchNorm1d(1024*self.infl_ratio),\n",
    "      #      nn.Hardtanh(),\n",
    "            \n",
    "            nn.Linear(512*self.infl_ratio,10),\n",
    "            nn.BatchNorm1d(10),\n",
    "            nn.Hardtanh(),\n",
    "            \n",
    "            nn.Softmax(dim=0)\n",
    "        )\n",
    "    def forward(self, x):\n",
    "        x = x.view(-1, 784)\n",
    "        x = self.layers(x)\n",
    "        return x\n",
    "\n",
    "model = Net()\n",
    "model.cuda()"
   ]
  },
  {
   "cell_type": "code",
   "execution_count": 5,
   "metadata": {},
   "outputs": [
    {
     "name": "stderr",
     "output_type": "stream",
     "text": [
      "training epoch1: 100%|██████████| 600/600 [00:25<00:00, 23.69it/s, loss=2.27]\n",
      "training epoch2:   1%|          | 6/600 [00:00<00:16, 35.57it/s, loss=2.27]"
     ]
    },
    {
     "name": "stdout",
     "output_type": "stream",
     "text": [
      "Test :  Accuracy: 9515/10000 (95.15%)\n",
      "\n"
     ]
    },
    {
     "name": "stderr",
     "output_type": "stream",
     "text": [
      "training epoch2: 100%|██████████| 600/600 [00:22<00:00, 26.20it/s, loss=2.27]\n",
      "training epoch3:   1%|          | 4/600 [00:00<00:24, 23.87it/s, loss=2.27]"
     ]
    },
    {
     "name": "stdout",
     "output_type": "stream",
     "text": [
      "Test :  Accuracy: 9669/10000 (96.69%)\n",
      "\n"
     ]
    },
    {
     "name": "stderr",
     "output_type": "stream",
     "text": [
      "training epoch3: 100%|██████████| 600/600 [00:24<00:00, 24.51it/s, loss=2.27]\n",
      "training epoch4:   1%|          | 6/600 [00:00<00:18, 31.75it/s, loss=2.27]"
     ]
    },
    {
     "name": "stdout",
     "output_type": "stream",
     "text": [
      "Test :  Accuracy: 9714/10000 (97.14%)\n",
      "\n"
     ]
    },
    {
     "name": "stderr",
     "output_type": "stream",
     "text": [
      "training epoch4: 100%|██████████| 600/600 [00:21<00:00, 27.92it/s, loss=2.27]\n"
     ]
    },
    {
     "name": "stdout",
     "output_type": "stream",
     "text": [
      "Test :  Accuracy: 9750/10000 (97.50%)\n",
      "\n"
     ]
    }
   ],
   "source": [
    "import torch.optim as optim\n",
    "criterion = nn.CrossEntropyLoss()\n",
    "optimizer = optim.Adam(model.parameters(), lr=1e-3)\n",
    "\n",
    "def train(epoch):\n",
    "    model.train()\n",
    "    prbar = tqdm(total=len(train_loader))\n",
    "    prbar.set_description(\"training epoch\"+str(epoch))\n",
    "    for data, target in train_loader:\n",
    "        data, target = data.cuda(), target.cuda()\n",
    "        data, target = Variable(data), Variable(target)\n",
    "        optimizer.zero_grad()\n",
    "        output = model(data)\n",
    "        loss = criterion(output, target)\n",
    "\n",
    "\n",
    "        optimizer.zero_grad()\n",
    "        loss.backward()\n",
    "        optimizer.step()\n",
    "        \n",
    "        prbar.update(1)\n",
    "        prbar.set_postfix(loss=loss.item())\n",
    "    prbar.close()\n",
    "   # print('Train Epoch: {} \\tLoss: {:.4f}'.format(epoch, loss.item()))\n",
    "    \n",
    "def test():\n",
    "    model.eval()\n",
    "    test_loss = 0\n",
    "    correct = 0\n",
    "    with torch.no_grad():\n",
    "        for data, target in test_loader:\n",
    "            data, target = data.cuda(), target.cuda()\n",
    "            data, target = Variable(data), Variable(target)\n",
    "            output = model(data)\n",
    "            test_loss += criterion(output, target).item() # sum up batch loss\n",
    "            pred = output.data.max(1, keepdim=True)[1] # get the index of the max log-probability\n",
    "            correct += pred.eq(target.data.view_as(pred)).cpu().sum()\n",
    "\n",
    "    test_loss /= len(test_loader.dataset)\n",
    "    print('Test :  Accuracy: {}/{} ({:.2f}%)\\n'.format(\n",
    "        correct, len(test_loader.dataset),\n",
    "        100. * correct / len(test_loader.dataset)))\n",
    "    \n",
    "for epoch in range(1,5):\n",
    "    train(epoch)\n",
    "    test()"
   ]
  },
  {
   "cell_type": "code",
   "execution_count": 6,
   "metadata": {},
   "outputs": [
    {
     "name": "stdout",
     "output_type": "stream",
     "text": [
      "Test :  Accuracy: 9699/10000 (96.99%)\n",
      "\n"
     ]
    }
   ],
   "source": [
    "# Product Quantition\n",
    "from sklearn.cluster import KMeans\n",
    "\n",
    "k = 1\n",
    "s = 10\n",
    "for p in model.parameters():\n",
    "    if p.dim() >=2:\n",
    "        pp = p.clone()\n",
    "        X = pp.detach().cpu().numpy()\n",
    "        n= X.shape[1]\n",
    "        dic = {}\n",
    "        for i in range(s):\n",
    "            start = (i)*(n//s)\n",
    "            if i!= s-1:\n",
    "                x= X[:,start:(i+1)*(n//s)]\n",
    "            else:\n",
    "                x= X[:,start:]\n",
    "            \n",
    "            kmeans = KMeans(n_clusters=k)\n",
    "            kmeans.fit(x)\n",
    "            y_kmeans = kmeans.predict(x)\n",
    "            centers = kmeans.cluster_centers_\n",
    "            newx = np.asarray([centers[i] for i in y_kmeans])\n",
    "            if i!= s-1:\n",
    "                p[:,start:(i+1)*(n//s)] = torch.from_numpy(newx)\n",
    "            else:\n",
    "                p[:,start:] = torch.from_numpy(newx)\n",
    "            break\n",
    "        break\n",
    "test()        "
   ]
  }
 ],
 "metadata": {
  "kernelspec": {
   "display_name": "Python 3",
   "language": "python",
   "name": "python3"
  },
  "language_info": {
   "codemirror_mode": {
    "name": "ipython",
    "version": 3
   },
   "file_extension": ".py",
   "mimetype": "text/x-python",
   "name": "python",
   "nbconvert_exporter": "python",
   "pygments_lexer": "ipython3",
   "version": "3.6.5"
  }
 },
 "nbformat": 4,
 "nbformat_minor": 4
}
