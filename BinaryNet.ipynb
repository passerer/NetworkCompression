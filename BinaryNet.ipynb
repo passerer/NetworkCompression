{
 "cells": [
  {
   "cell_type": "code",
   "execution_count": 1,
   "metadata": {},
   "outputs": [],
   "source": [
    "import torch\n",
    "import torch.nn as nn\n",
    "from torchvision import datasets, transforms\n",
    "from torch.autograd import Variable\n",
    "from tqdm import tqdm\n",
    "import numpy as np"
   ]
  },
  {
   "cell_type": "code",
   "execution_count": 2,
   "metadata": {},
   "outputs": [],
   "source": [
    "import torch.utils.data as Data\n",
    "    \n",
    "BATCH_SIZE = 100\n",
    "\n",
    "train_dataset = datasets.MNIST(root='./data/',train=True,transform=transforms.Compose([\n",
    "                           transforms.ToTensor(),\n",
    "                           transforms.Normalize((0.1307,), (0.3081,))\n",
    "                       ]))\n",
    "test_dataset = datasets.MNIST(root='./data/',train=False,transform=transforms.Compose([\n",
    "                           transforms.ToTensor(),\n",
    "                           transforms.Normalize((0.1307,), (0.3081,))\n",
    "                       ]))\n",
    "\n",
    "train_loader = Data.DataLoader(dataset=train_dataset,batch_size=BATCH_SIZE,shuffle=True)\n",
    "test_loader = Data.DataLoader(dataset=test_dataset,batch_size=BATCH_SIZE,shuffle=False)"
   ]
  },
  {
   "cell_type": "code",
   "execution_count": 3,
   "metadata": {},
   "outputs": [],
   "source": [
    "def Binarize(x):\n",
    "    return torch.where(x >= 0, torch.full_like(x, 1), torch.full_like(x, -1))\n",
    "\n",
    "    \n",
    "class BinarizeLinear(nn.Linear):\n",
    "\n",
    "    def __init__(self, *kargs, **kwargs):\n",
    "        super(BinarizeLinear, self).__init__(*kargs, **kwargs)\n",
    "\n",
    "    def forward(self, input):\n",
    "\n",
    "        if input.size(1) != 784:\n",
    "            input.data=Binarize(input.data)\n",
    "        if not hasattr(self.weight,'org'):\n",
    "            self.weight.org=self.weight.data.clone()\n",
    "        self.weight.data=Binarize(self.weight.org)\n",
    "        out = nn.functional.linear(input, self.weight)\n",
    "        if not self.bias is None:\n",
    "            self.bias.org=self.bias.data.clone()\n",
    "            out += self.bias.view(1, -1).expand_as(out)\n",
    "\n",
    "        return out"
   ]
  },
  {
   "cell_type": "code",
   "execution_count": 4,
   "metadata": {},
   "outputs": [],
   "source": [
    "class BinaryNet(nn.Module):\n",
    "    def __init__(self):\n",
    "        super(BinaryNet, self).__init__()\n",
    "        self.infl_ratio=4\n",
    "        self.layers=nn.Sequential(\n",
    "            \n",
    "            BinarizeLinear(784, 1024*self.infl_ratio),\n",
    "         #   nn.Linear(784, 1024*self.infl_ratio),\n",
    "            nn.BatchNorm1d(1024*self.infl_ratio),\n",
    "            nn.Hardtanh(),\n",
    "            \n",
    "            BinarizeLinear(1024*self.infl_ratio, 1024*self.infl_ratio),\n",
    "      #      nn.Linear(1024*self.infl_ratio,1024*self.infl_ratio),\n",
    "            nn.BatchNorm1d(1024*self.infl_ratio),\n",
    "            nn.Hardtanh(),\n",
    "            \n",
    "            BinarizeLinear(1024*self.infl_ratio, 1024*self.infl_ratio),\n",
    "      #      nn.Linear(1024*self.infl_ratio,1024*self.infl_ratio),\n",
    "            nn.BatchNorm1d(1024*self.infl_ratio),\n",
    "            nn.Hardtanh(),\n",
    "            \n",
    "            nn.Linear(1024*self.infl_ratio,10),\n",
    "            nn.BatchNorm1d(10)\n",
    "        )\n",
    "    def forward(self, x):\n",
    "        x = x.view(-1, 784)\n",
    "        x = self.layers(x)\n",
    "        return x\n",
    "    "
   ]
  },
  {
   "cell_type": "code",
   "execution_count": 5,
   "metadata": {},
   "outputs": [
    {
     "data": {
      "text/plain": [
       "BinaryNet(\n",
       "  (layers): Sequential(\n",
       "    (0): BinarizeLinear(in_features=784, out_features=4096, bias=True)\n",
       "    (1): BatchNorm1d(4096, eps=1e-05, momentum=0.1, affine=True, track_running_stats=True)\n",
       "    (2): Hardtanh(min_val=-1.0, max_val=1.0)\n",
       "    (3): BinarizeLinear(in_features=4096, out_features=4096, bias=True)\n",
       "    (4): BatchNorm1d(4096, eps=1e-05, momentum=0.1, affine=True, track_running_stats=True)\n",
       "    (5): Hardtanh(min_val=-1.0, max_val=1.0)\n",
       "    (6): BinarizeLinear(in_features=4096, out_features=4096, bias=True)\n",
       "    (7): BatchNorm1d(4096, eps=1e-05, momentum=0.1, affine=True, track_running_stats=True)\n",
       "    (8): Hardtanh(min_val=-1.0, max_val=1.0)\n",
       "    (9): Linear(in_features=4096, out_features=10, bias=True)\n",
       "    (10): BatchNorm1d(10, eps=1e-05, momentum=0.1, affine=True, track_running_stats=True)\n",
       "  )\n",
       ")"
      ]
     },
     "execution_count": 5,
     "metadata": {},
     "output_type": "execute_result"
    }
   ],
   "source": [
    "binaryModel = BinaryNet()\n",
    "binaryModel.cuda()"
   ]
  },
  {
   "cell_type": "code",
   "execution_count": 6,
   "metadata": {},
   "outputs": [],
   "source": [
    "class HingeLoss(torch.nn.Module):\n",
    "    def __init__(self):\n",
    "        super(HingeLoss, self).__init__()\n",
    "\n",
    "    def forward(self, output, target):\n",
    "        hinge_loss = 1 - torch.mul(output, target)\n",
    "        hinge_loss[hinge_loss < 0] = 0\n",
    "        return torch.mean(hinge_loss)"
   ]
  },
  {
   "cell_type": "code",
   "execution_count": 7,
   "metadata": {},
   "outputs": [],
   "source": [
    "import torch.optim as optim\n",
    "criterion = HingeLoss()\n",
    "optimizer = optim.Adam(binaryModel.parameters(), lr=1e-3)"
   ]
  },
  {
   "cell_type": "code",
   "execution_count": 14,
   "metadata": {},
   "outputs": [],
   "source": [
    "def train(epoch):\n",
    "    binaryModel.train()\n",
    "    prbar = tqdm(total=len(train_loader))\n",
    "    prbar.set_description(\"training epoch\"+str(epoch))\n",
    "    for data, target in train_loader:\n",
    "        onehot = (-1*torch.ones(BATCH_SIZE, 10)).scatter_(1, target.unsqueeze(-1), 1) # one-hot\n",
    "        data, onehot = data.cuda(), onehot.cuda()\n",
    "        data, onehot = Variable(data), Variable(onehot)\n",
    "        optimizer.zero_grad()\n",
    "        output = binaryModel(data)\n",
    "        loss = criterion(output, onehot)\n",
    "\n",
    "\n",
    "        optimizer.zero_grad()\n",
    "        loss.backward()\n",
    "        for p in list(binaryModel.parameters()):\n",
    "            if hasattr(p,'org'):\n",
    "                p.data.copy_(p.org)\n",
    "        optimizer.step()\n",
    "        for p in list(binaryModel.parameters()):\n",
    "            if hasattr(p,'org'):\n",
    "                p.org.copy_(p.data.clamp_(-1,1))\n",
    "        prbar.update(1)\n",
    "        prbar.set_postfix(loss=loss.item())\n",
    "    prbar.close()\n",
    "   # print('Train Epoch: {} \\tLoss: {:.4f}'.format(epoch, loss.item()))\n",
    "    \n",
    "def test():\n",
    "    binaryModel.eval()\n",
    "    test_loss = 0\n",
    "    correct = 0\n",
    "    with torch.no_grad():\n",
    "        for data, target in test_loader:\n",
    "            onehot = (-1*torch.ones(BATCH_SIZE, 10)).scatter_(1, target.unsqueeze(-1), 1) # one-hot\n",
    "            target = Variable(target.cuda())\n",
    "            data, onehot = data.cuda(), onehot.cuda()\n",
    "            data, onehot = Variable(data), Variable(onehot)\n",
    "            output = binaryModel(data)\n",
    "            test_loss += criterion(output, onehot).item() # sum up batch loss\n",
    "            pred = output.data.max(1, keepdim=True)[1] # get the index of the max log-probability\n",
    "            correct += pred.eq(target.data.view_as(pred)).cpu().sum()\n",
    "\n",
    "    test_loss /= len(test_loader.dataset)\n",
    "    print('Test :  Accuracy: {}/{} ({:.2f}%)\\n'.format(\n",
    "        correct, len(test_loader.dataset),\n",
    "        100. * correct / len(test_loader.dataset)))"
   ]
  },
  {
   "cell_type": "code",
   "execution_count": null,
   "metadata": {},
   "outputs": [],
   "source": [
    "for epoch in range(1, 10):\n",
    "    train(epoch)\n",
    "    test()"
   ]
  }
 ],
 "metadata": {
  "kernelspec": {
   "display_name": "Python 3",
   "language": "python",
   "name": "python3"
  },
  "language_info": {
   "codemirror_mode": {
    "name": "ipython",
    "version": 3
   },
   "file_extension": ".py",
   "mimetype": "text/x-python",
   "name": "python",
   "nbconvert_exporter": "python",
   "pygments_lexer": "ipython3",
   "version": "3.6.5"
  }
 },
 "nbformat": 4,
 "nbformat_minor": 4
}
